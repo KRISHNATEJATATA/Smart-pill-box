{
 "cells": [
  {
   "cell_type": "code",
   "execution_count": null,
   "metadata": {},
   "outputs": [],
   "source": [
    "import cv2\n",
    "import matplotlib.pyplot as plt\n",
    "import serial\n",
    "ser=serial.Serial('COM3',9600)\n",
    "import serial.tools.list_ports\n",
    "imagePath = 'imagepath'\n",
    "img = cv2.imread(imagePath)\n",
    "# print(img.shape)\n",
    "gray_image = cv2.cvtColor(img, cv2.COLOR_BGR2GRAY)\n",
    "# print(gray_image.shape)\n",
    "face_classifier = cv2.CascadeClassifier(\n",
    "    cv2.data.haarcascades + \"haarcascade_frontalface_default.xml\"\n",
    ")\n",
    "face = face_classifier.detectMultiScale(\n",
    "    gray_image, scaleFactor=1.1, minNeighbors=5, minSize=(40, 40)\n",
    ")\n",
    "# for (x, y, w, h) in face:\n",
    "#     cv2.rectangle(img, (x, y), (x + w, y + h), (0, 255, 0), 4)\n",
    "# img_rgb = cv2.cvtColor(img, cv2.COLOR_BGR2RGB)\n",
    "if len(face):\n",
    "    print(1)\n",
    "    ser.write(1)\n",
    "else:\n",
    "    print(0)\n",
    "    ser.write(0)\n",
    "# plt.figure(figsize=(20,10))\n",
    "# plt.imshow(img_rgb)\n",
    "# plt.axis('off')\n",
    "while True:\n",
    "\tif ser.in_waiting:\n",
    "\t\tpacket = ser.readline()\n",
    "\t\tprint(packet.decode('utf').rstrip('\\n'))\n"
   ]
  }
 ],
 "metadata": {
  "kernelspec": {
   "display_name": "Python 3",
   "language": "python",
   "name": "python3"
  },
  "language_info": {
   "codemirror_mode": {
    "name": "ipython",
    "version": 3
   },
   "file_extension": ".py",
   "mimetype": "text/x-python",
   "name": "python",
   "nbconvert_exporter": "python",
   "pygments_lexer": "ipython3",
   "version": "3.12.3"
  }
 },
 "nbformat": 4,
 "nbformat_minor": 2
}
